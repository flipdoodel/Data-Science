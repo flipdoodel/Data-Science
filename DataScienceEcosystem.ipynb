{
  "metadata": {
    "language_info": {
      "codemirror_mode": {
        "name": "python",
        "version": 3
      },
      "file_extension": ".py",
      "mimetype": "text/x-python",
      "name": "python",
      "nbconvert_exporter": "python",
      "pygments_lexer": "ipython3",
      "version": "3.8"
    },
    "kernelspec": {
      "name": "python",
      "display_name": "Python (Pyodide)",
      "language": "python"
    }
  },
  "nbformat_minor": 4,
  "nbformat": 4,
  "cells": [
    {
      "cell_type": "code",
      "source": "",
      "metadata": {},
      "execution_count": null,
      "outputs": []
    },
    {
      "cell_type": "markdown",
      "source": "In this notebook, Data Science Tools and Ecosystem are summarized.",
      "metadata": {}
    },
    {
      "cell_type": "markdown",
      "source": "### Objectives",
      "metadata": {}
    },
    {
      "cell_type": "markdown",
      "source": "- I learned useful tools such as github and jupiter",
      "metadata": {}
    },
    {
      "cell_type": "markdown",
      "source": "- leanrned what languages data scientists commonly use",
      "metadata": {}
    },
    {
      "cell_type": "markdown",
      "source": "- another takeaway from this course is that data scinece is broken into pieces such as data visualization, machine learning, deep learning, ect",
      "metadata": {}
    },
    {
      "cell_type": "markdown",
      "source": "### Author\nSyed Ahmed",
      "metadata": {}
    }
  ]
}